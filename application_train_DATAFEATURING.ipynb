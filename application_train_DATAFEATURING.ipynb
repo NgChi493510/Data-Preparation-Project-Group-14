{
 "cells": [
  {
   "cell_type": "code",
   "execution_count": 32,
   "metadata": {},
   "outputs": [],
   "source": [
    "import pandas as pd\n",
    "import numpy as np\n",
    "import matplotlib.pyplot as plt\n",
    "import seaborn as sns\n",
    "import warnings\n",
    "warnings.filterwarnings(\"ignore\")"
   ]
  },
  {
   "cell_type": "code",
   "execution_count": 33,
   "metadata": {},
   "outputs": [],
   "source": [
    "file = ['dseb63_application_test','dseb63_application_train','dseb63_bureau',\\\n",
    "        'dseb63_bureau_balance', 'dseb63_credit_card_balance','dseb63_installments_payments',\\\n",
    "        'dseb63_POS_CASH_balance','dseb63_previous_application']\n",
    "link = 'D:\\\\Năm 3 - HK1\\\\Visualize\\\\Ex\\\\final_project\\\\dseb63_final_project_DP_dataset\\\\dseb63_final_project_DP_dataset\\\\'\n",
    "df = pd.read_csv(link + file[1]+'.csv',index_col='Unnamed: 0')\n",
    "test_set = pd.read_csv(link + file[0]+'.csv',index_col='Unnamed: 0')\n",
    "submit = pd.read_csv('D:\\\\Năm 3 - HK1\\\\Visualize\\\\Ex\\\\final_project\\\\dseb63_sample_submission.csv')\n"
   ]
  },
  {
   "cell_type": "markdown",
   "metadata": {},
   "source": [
    "# DROP"
   ]
  },
  {
   "cell_type": "code",
   "execution_count": 34,
   "metadata": {},
   "outputs": [],
   "source": [
    "\n",
    "# #null high\n",
    "# col_drop =  (df.isnull().sum()/df.shape[0]).sort_values(ascending=False).index[:50].tolist()\n",
    "# #flag doc\n",
    "# starting_idx = df.columns.get_loc(\"FLAG_DOCUMENT_2\")\n",
    "# ending_idx = df.columns.get_loc(\"FLAG_DOCUMENT_21\")+1\n",
    "# for i in range(starting_idx,ending_idx):\n",
    "#     col_drop.append(df.columns[i])\n",
    "# col_drop.remove('FLAG_DOCUMENT_3')\n",
    "# #social\n",
    "# for i in ['OBS_30_CNT_SOCIAL_CIRCLE', 'DEF_30_CNT_SOCIAL_CIRCLE', 'OBS_60_CNT_SOCIAL_CIRCLE']:\n",
    "#     col_drop.append(i)\n",
    "# #enquiries freq\n",
    "# for i in ['AMT_REQ_CREDIT_BUREAU_HOUR', 'AMT_REQ_CREDIT_BUREAU_DAY', 'AMT_REQ_CREDIT_BUREAU_WEEK', 'AMT_REQ_CREDIT_BUREAU_QRT']:\n",
    "#     col_drop.append(i)\n",
    "# #contact\n",
    "# for i in ['FLAG_MOBIL','FLAG_CONT_MOBILE','FLAG_EMAIL','FLAG_EMP_PHONE']:\n",
    "#     col_drop.append(i)\n",
    "\n",
    "# # region\n",
    "# for i in ['REGION_RATING_CLIENT','REG_REGION_NOT_LIVE_REGION','REG_REGION_NOT_WORK_REGION','LIVE_REGION_NOT_WORK_REGION']:\n",
    "#     col_drop.append(i)\n",
    "# # finance\n",
    "# for i in ['AMT_GOODS_PRICE']:\n",
    "#     col_drop.append(i)\n",
    "# #family\n",
    "# col_drop.append('CNT_FAM_MEMBERS')\n",
    "\n",
    "# #cate\n",
    "# for i in ['NAME_CONTRACT_TYPE','NAME_HOUSING_TYPE','NAME_TYPE_SUITE']:\n",
    "#     col_drop.append(i)\n",
    "# for i in ['OCCUPATION_TYPE','ORGANIZATION_TYPE']:\n",
    "#     col_drop.append(i)\n",
    "# for i in ['WEEKDAY_APPR_PROCESS_START','HOUR_APPR_PROCESS_START']:\n",
    "#     col_drop.append(i)\n",
    "\n",
    "# # col_drop.append('SK_ID_CURR')"
   ]
  },
  {
   "cell_type": "code",
   "execution_count": 35,
   "metadata": {},
   "outputs": [],
   "source": [
    "# new = df.drop(col_drop,axis = 1)\n",
    "# # new.describe()\n",
    "# test_set = test_set.drop(col_drop,axis = 1)\n",
    "# new.dropna(subset='TARGET',inplace=True)"
   ]
  },
  {
   "cell_type": "code",
   "execution_count": 36,
   "metadata": {},
   "outputs": [],
   "source": [
    "# new.loc[new['CODE_GENDER']=='XNA'] = np.nan\n",
    "# new.loc[new['NAME_FAMILY_STATUS']=='Unknown'] = np.nan"
   ]
  }
 ],
 "metadata": {
  "kernelspec": {
   "display_name": "base",
   "language": "python",
   "name": "python3"
  },
  "language_info": {
   "codemirror_mode": {
    "name": "ipython",
    "version": 3
   },
   "file_extension": ".py",
   "mimetype": "text/x-python",
   "name": "python",
   "nbconvert_exporter": "python",
   "pygments_lexer": "ipython3",
   "version": "3.9.12"
  }
 },
 "nbformat": 4,
 "nbformat_minor": 2
}
